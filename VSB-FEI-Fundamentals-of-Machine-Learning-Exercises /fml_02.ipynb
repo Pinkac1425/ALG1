{
  "nbformat": 4,
  "nbformat_minor": 0,
  "metadata": {
    "colab": {
      "provenance": [],
      "authorship_tag": "ABX9TyMjjfgAkqsUnNL9Z3BKuR5R",
      "include_colab_link": true
    },
    "kernelspec": {
      "name": "python3",
      "display_name": "Python 3"
    },
    "language_info": {
      "name": "python"
    }
  },
  "cells": [
    {
      "cell_type": "markdown",
      "metadata": {
        "id": "view-in-github",
        "colab_type": "text"
      },
      "source": [
        "<a href=\"https://colab.research.google.com/github/Pinkac1425/ALG1/blob/main/VSB-FEI-Fundamentals-of-Machine-Learning-Exercises%20/fml_02.ipynb\" target=\"_parent\"><img src=\"https://colab.research.google.com/assets/colab-badge.svg\" alt=\"Open In Colab\"/></a>"
      ]
    },
    {
      "cell_type": "code",
      "execution_count": null,
      "metadata": {
        "id": "EtAro42Qb5Z2"
      },
      "outputs": [],
      "source": []
    }
  ]
}